{
 "cells": [
  {
   "cell_type": "markdown",
   "metadata": {},
   "source": [
    "Loads definitions and ignores those with no age assigned. A manually lemmatized version of the definitions is available and I work directly with it."
   ]
  },
  {
   "cell_type": "code",
   "execution_count": 2,
   "metadata": {
    "scrolled": false
   },
   "outputs": [
    {
     "name": "stdout",
     "output_type": "stream",
     "text": [
      "Age median: 12.0\n"
     ]
    },
    {
     "data": {
      "image/png": "[encoded data removed]",
      "text/plain": [
       "<matplotlib.figure.Figure at 0x7fe4fd185e10>"
      ]
     },
     "metadata": {},
     "output_type": "display_data"
    }
   ],
   "source": [
    "%matplotlib inline\n",
    "import pandas as pd\n",
    "import numpy as np\n",
    "cesca_all = pd.read_csv('cesca/definitions.csv')\n",
    "cesca_filtered = cesca_all.dropna(axis=0, subset=['age', 'lemmatized'])  # removes rows with na in either age or lemmatized fields\n",
    "cesca_filtered = cesca_filtered[cesca_filtered['age'] > 0].reset_index(drop=True)  # removes rows with age == 0\n",
    "# some usage comments: dropna and reset_index return new objects, unless 'inplace' is specified\n",
    "cesca_filtered.title = cesca_filtered.title.apply(str.lstrip)  # removes leading whitespaces\n",
    "age_hist = cesca_filtered.age.hist()\n",
    "age_hist.set_xlabel('Edad (años)')\n",
    "age_hist.set_ylabel('f')\n",
    "# cesca_filtered.age.hist(by=cesca_filtered.title)\n",
    "print('Age median: ' + str(np.median(cesca_filtered.age)))"
   ]
  },
  {
   "cell_type": "code",
   "execution_count": 3,
   "metadata": {},
   "outputs": [
    {
     "name": "stdout",
     "output_type": "stream",
     "text": [
      "gent gran not in lemmas!\n",
      "espantar-se not in lemmas!\n"
     ]
    }
   ],
   "source": [
    "# Are titles lemmatized? Do they appear in the lemmatized version of the definitions?\n",
    "lemmas = []\n",
    "for lemmatized in cesca_filtered.lemmatized:\n",
    "    for lemma in lemmatized.split():\n",
    "        lemmas.append(lemma)\n",
    "lemmas = set(lemmas)\n",
    "for title in cesca_filtered.title.unique():\n",
    "    if title not in lemmas:\n",
    "        print(title + ' not in lemmas!')"
   ]
  },
  {
   "cell_type": "code",
   "execution_count": 4,
   "metadata": {
    "collapsed": true
   },
   "outputs": [],
   "source": [
    "# replace titles not in lemmatized definitions with a lemmatized version\n",
    "lemmatized_titles = cesca_filtered.title.copy()\n",
    "lemmatized_titles[lemmatized_titles == 'gent gran'] = 'gent_gran'  # 'gent_gran' is however not a lemma in lemmatized definitions either;\n",
    "lemmatized_titles[lemmatized_titles == 'espantar-se'] = 'espantar'  # 'espantar' is, indeed, a lemma in lemmatized definitions\n",
    "\n",
    "# and add lemmatized titles at the beginning of the lemmatized definitions\n",
    "cesca_filtered['lemmatized'] = lemmatized_titles + ' ' + cesca_filtered['lemmatized']"
   ]
  },
  {
   "cell_type": "code",
   "execution_count": 5,
   "metadata": {
    "collapsed": true
   },
   "outputs": [],
   "source": [
    "# loads list of stopwords\n",
    "with open('ca_stop3_custom') as stop_ca:\n",
    "    for row in stop_ca:\n",
    "        if not row.startswith('#'):\n",
    "            row = row[:-1]  # drops newline character at the end of the line\n",
    "            stoplist = row.split(', ')\n",
    "stoplist = set(stoplist)"
   ]
  },
  {
   "cell_type": "code",
   "execution_count": 6,
   "metadata": {},
   "outputs": [
    {
     "name": "stdout",
     "output_type": "stream",
     "text": [
      "Younger group has 2352 definitions, while older has 3029.\n"
     ]
    }
   ],
   "source": [
    "# splits dataframe in two by age\n",
    "young_range = (0,11)\n",
    "older_range = (12,99)\n",
    "def split_by_age(df, young_range, older_range):\n",
    "    cesca_young = df[(df.age >= young_range[0]) & (df.age <= young_range[1])]\n",
    "    cesca_older = df[(df.age >= older_range[0]) & (df.age <= older_range[1])]\n",
    "    return cesca_young, cesca_older\n",
    "\n",
    "cesca_young, cesca_older = split_by_age(cesca_filtered, young_range, older_range)\n",
    "print('Younger group has {} definitions, while older has {}.'.format(len(cesca_young), len(cesca_older)))"
   ]
  },
  {
   "cell_type": "code",
   "execution_count": 7,
   "metadata": {},
   "outputs": [
    {
     "name": "stdout",
     "output_type": "stream",
     "text": [
      "Young vocabulary has 512 tokens, including bi- and trigrams if applicable.\n",
      "Older vocabulary has 854 tokens, including bi- and trigrams if applicable.\n"
     ]
    }
   ],
   "source": [
    "# from sklearn.feature_extraction.text import TfidfVectorizer\n",
    "import sklearn.feature_extraction.text\n",
    "TfidfVectorizer = sklearn.feature_extraction.text.TfidfVectorizer\n",
    "from copy import copy, deepcopy\n",
    "\n",
    "def tokenizer(string):\n",
    "    # if left to the CountVectorizer's default tokenizer, it splits words with pont volat\n",
    "    tokens = [token for token in string.split() if len(token) > 1]  # it only keeps tokens longer than one character\n",
    "    #tokens = [token for token in string.replace('_', ' ').split() if len(token) > 1]  # this breaks 2+gram lemmas with underscores,\n",
    "                                                                                       # but it may not be the best choice as they\n",
    "                                                                                       # were manually annotated\n",
    "    return tokens\n",
    "\n",
    "# as opposed to CountVectorizer, TfidfVectorizer normalizes by default\n",
    "vectorizer_young = TfidfVectorizer(\n",
    "                                   binary=False,  # very short texts are likely to have noisy tf–idf values while the binary occurrence info is more stable\n",
    "                                   lowercase=False,\n",
    "                                   max_df=1.0,  # ignore terms with document frequency higher than this threshold\n",
    "                                   min_df=3,  # ignore terms with document frequency lower than threshold\n",
    "                                   preprocessor=None,  # override the preprocessing step\n",
    "                                   tokenizer=tokenizer,  # override the tokenizer step; wouldn't override the ngram_range parameter\n",
    "                                   ngram_range=(1,1),  # extract n-grams\n",
    "                                   stop_words=stoplist,  # list of stopwords\n",
    "                                   strip_accents=None,\n",
    "                                   token_pattern='',  # The default regexp selects tokens of 2 or more alphanumeric characters (punctuation is completely ignored);\n",
    "                                                      # should be overriden by custom tokenizer\n",
    "                                   use_idf = True,\n",
    "                                   norm = 'l2', # disable normalization and idf to get same results as with CountVectorizer\n",
    "                                   )\n",
    "vectorizer_older = deepcopy(vectorizer_young)\n",
    "\n",
    "tfidf_young = vectorizer_young.fit_transform(cesca_young.lemmatized)\n",
    "tfidf_older = vectorizer_older.fit_transform(cesca_older.lemmatized)\n",
    "\n",
    "print('Young vocabulary has {} tokens, including bi- and trigrams if applicable.'.format(len(vectorizer_young.get_feature_names())))\n",
    "print('Older vocabulary has {} tokens, including bi- and trigrams if applicable.'.format(len(vectorizer_older.get_feature_names())))"
   ]
  },
  {
   "cell_type": "code",
   "execution_count": 8,
   "metadata": {
    "scrolled": false
   },
   "outputs": [
    {
     "name": "stdout",
     "output_type": "stream",
     "text": [
      "Explained variance of the SVD step:\n",
      "Young group: 44.98721500747006%\n",
      "Older group: 38.14305763545032%\n"
     ]
    }
   ],
   "source": [
    "# LSA dimensionality reduction\n",
    "\n",
    "from sklearn.decomposition import TruncatedSVD\n",
    "from sklearn.pipeline import make_pipeline\n",
    "from sklearn.preprocessing import Normalizer\n",
    "\n",
    "n_components = 50  # 100 is recommended number of components in SKLearn documentation\n",
    "                    # Gensim recommends 200-500\n",
    "svd_young = TruncatedSVD(n_components)\n",
    "normalizer_young = Normalizer(copy=False)  # rescale each row/doc so that its norm (l2-norm by default) equals to one\n",
    "lsaer_young = make_pipeline(svd_young, normalizer_young)\n",
    "\n",
    "svd_older = deepcopy(svd_young)\n",
    "normalizer_older = deepcopy(normalizer_young)\n",
    "lsaer_older = make_pipeline(svd_older, normalizer_older)\n",
    "\n",
    "lsa_young = lsaer_young.fit_transform(tfidf_young)\n",
    "lsa_older = lsaer_older.fit_transform(tfidf_older)\n",
    "\n",
    "print('Explained variance of the SVD step:')\n",
    "print('Young group: {}%'.format(svd_young.explained_variance_.sum() * 100))\n",
    "print('Older group: {}%'.format(svd_older.explained_variance_.sum() * 100))"
   ]
  },
  {
   "cell_type": "code",
   "execution_count": 9,
   "metadata": {
    "collapsed": true
   },
   "outputs": [],
   "source": [
    "# one set of features from young and older vectorizers; intersection\n",
    "features_all = set(vectorizer_young.get_feature_names()).intersection(vectorizer_older.get_feature_names())\n",
    "# Warning: this set should be used in all shuffling steps, given that the features in each vectorizer may not be\n",
    "# exactly the same (e.g. it may happen that some feature appears only once in one of the random young/older subsets\n",
    "# and is thus ignored)\n",
    "features_all = sorted(list(features_all))  # sort features alphabetically"
   ]
  },
  {
   "cell_type": "code",
   "execution_count": 10,
   "metadata": {
    "collapsed": true
   },
   "outputs": [],
   "source": [
    "def get_similarities(features, vectorizer_young, vectorizer_older, lsaer_young, lsaer_older):\n",
    "    from sklearn.metrics.pairwise import cosine_similarity, linear_kernel\n",
    "    from scipy.stats import spearmanr\n",
    "        \n",
    "    features_tfidf_young = vectorizer_young.transform(features)\n",
    "    features_lsa_young = lsaer_young.transform(features_tfidf_young)\n",
    "    empty_young = [feature not in vectorizer_young.get_feature_names() for feature in features]  # logical indices of features not in vocabulary\n",
    "    \n",
    "    features_tfidf_older = vectorizer_older.transform(features)\n",
    "    features_lsa_older = lsaer_older.transform(features_tfidf_older)\n",
    "    empty_older = [feature not in vectorizer_older.get_feature_names() for feature in features]\n",
    "    \n",
    "    similarity_young = cosine_similarity(features_lsa_young)  # On L2-normalized data, this function is equivalent to linear_kernel\n",
    "    # clears distances which involve features not in the vocabulary\n",
    "    # this is needed for shuffled data as feature intersection (features_all) is obtained only once\n",
    "    similarity_young[empty_young, :] = np.nan\n",
    "    similarity_young[:, empty_young] = np.nan\n",
    "    \n",
    "    similarity_older = cosine_similarity(features_lsa_older)\n",
    "    similarity_older[empty_older, :] = np.nan\n",
    "    similarity_older[:, empty_older] = np.nan\n",
    "    \n",
    "    # for each pair of lemmas, it calculates the distance (between lemmas) difference between both groups (young and older)\n",
    "    similarity_delta = similarity_older - similarity_young\n",
    "    \n",
    "    return similarity_young, similarity_older, similarity_delta\n",
    "\n",
    "similarity_young, similarity_older, similarity_delta = get_similarities(features_all,\n",
    "                                                                        vectorizer_young, vectorizer_older,\n",
    "                                                                        lsaer_young, lsaer_older)"
   ]
  },
  {
   "cell_type": "code",
   "execution_count": 11,
   "metadata": {},
   "outputs": [
    {
     "name": "stdout",
     "output_type": "stream",
     "text": [
      "Young: 0.031068100422697673 ± 0.1603492896207648\n",
      "Older: 0.02758605988164162 ± 0.16141702464514926\n"
     ]
    }
   ],
   "source": [
    "# Apparently, it is not obvious that measurements of distance can be\n",
    "# compared between vector/semantic spaces.\n",
    "# Are distributions of distances comparable between corpuses/age-groups?\n",
    "print('Young: {} ± {}'.format(np.mean(similarity_young), np.std(similarity_young)))\n",
    "print('Older: {} ± {}'.format(np.mean(similarity_older), np.std(similarity_older)))"
   ]
  },
  {
   "cell_type": "code",
   "execution_count": 12,
   "metadata": {
    "scrolled": true
   },
   "outputs": [
    {
     "name": "stdout",
     "output_type": "stream",
     "text": [
      "0\n",
      "1\n",
      "2\n",
      "3\n",
      "4\n",
      "5\n",
      "6\n",
      "7\n",
      "8\n",
      "9\n",
      "10\n",
      "11\n",
      "12\n",
      "13\n",
      "14\n",
      "15\n",
      "16\n",
      "17\n",
      "18\n",
      "19\n",
      "20\n",
      "21\n",
      "22\n",
      "23\n",
      "24\n",
      "25\n",
      "26\n",
      "27\n",
      "28\n",
      "29\n",
      "30\n",
      "31\n",
      "32\n",
      "33\n",
      "34\n",
      "35\n",
      "36\n",
      "37\n",
      "38\n",
      "39\n",
      "40\n",
      "41\n",
      "42\n",
      "43\n",
      "44\n",
      "45\n",
      "46\n",
      "47\n",
      "48\n",
      "49\n",
      "50\n",
      "51\n",
      "52\n",
      "53\n",
      "54\n",
      "55\n",
      "56\n",
      "57\n",
      "58\n",
      "59\n",
      "60\n",
      "61\n",
      "62\n",
      "63\n",
      "64\n",
      "65\n",
      "66\n",
      "67\n",
      "68\n",
      "69\n",
      "70\n",
      "71\n",
      "72\n",
      "73\n",
      "74\n",
      "75\n",
      "76\n",
      "77\n",
      "78\n",
      "79\n",
      "80\n",
      "81\n",
      "82\n",
      "83\n",
      "84\n",
      "85\n",
      "86\n",
      "87\n",
      "88\n",
      "89\n",
      "90\n",
      "91\n",
      "92\n",
      "93\n",
      "94\n",
      "95\n",
      "96\n",
      "97\n",
      "98\n",
      "99\n"
     ]
    }
   ],
   "source": [
    "iter = 100\n",
    "similarity_deltas = []\n",
    "similarity_correlations = []\n",
    "\n",
    "# copy vectorizers and lsaers for iterations, to keep original fits with unshuffled data\n",
    "vectorizer_young_shuffle = deepcopy(vectorizer_young)\n",
    "vectorizer_older_shuffle = deepcopy(vectorizer_older)\n",
    "\n",
    "svd_young_shuffle = deepcopy(svd_young)\n",
    "normalizer_young_shuffle = deepcopy(normalizer_young)\n",
    "lsaer_young_shuffle = make_pipeline(svd_young_shuffle, normalizer_young_shuffle)\n",
    "\n",
    "svd_older_shuffle = deepcopy(svd_older)\n",
    "normalizer_older_shuffle = deepcopy(normalizer_older)\n",
    "lsaer_older_shuffle = make_pipeline(svd_older_shuffle, normalizer_older_shuffle)\n",
    "\n",
    "for i in range(iter):\n",
    "    print(i)\n",
    "    cesca_shuffled = cesca_filtered.copy()\n",
    "    cesca_shuffled.age = cesca_shuffled.age.sample(frac=1).reset_index(drop=True)  # shuffles ages\n",
    "    young_shuffled, older_shuffled = split_by_age(cesca_shuffled, young_range, older_range)\n",
    "    \n",
    "    tfidf_young_shuffle = vectorizer_young_shuffle.fit_transform(young_shuffled.lemmatized)\n",
    "    tfidf_older_shuffle = vectorizer_older_shuffle.fit_transform(older_shuffled.lemmatized)\n",
    "    lsa_young_shuffle = lsaer_young_shuffle.fit_transform(tfidf_young_shuffle)\n",
    "    lsa_older_shuffle = lsaer_older_shuffle.fit_transform(tfidf_older_shuffle)\n",
    "    _, _, shuffled_delta = get_similarities(features_all,\n",
    "                                            vectorizer_young_shuffle, vectorizer_older_shuffle,\n",
    "                                            lsaer_young_shuffle, lsaer_older_shuffle)\n",
    "    similarity_deltas.append(shuffled_delta)\n",
    "\n",
    "similarity_deltas = np.array(similarity_deltas)"
   ]
  },
  {
   "cell_type": "code",
   "execution_count": 13,
   "metadata": {
    "collapsed": true,
    "scrolled": true
   },
   "outputs": [],
   "source": [
    "# find significant deltas\n",
    "delta_means = np.nanmean(similarity_deltas, axis=0)  # ignore nan\n",
    "delta_stds = np.nanstd(similarity_deltas, axis=0)  # ignore nan\n",
    "\n",
    "delta_z = (similarity_delta - delta_means) / delta_stds\n",
    "delta_z[np.tril_indices(delta_z.shape[0])] = 0  # dismiss lower-left triangle and diagonal values\n",
    "significant_deltas = np.nonzero(delta_z > 4)  # keeps significant deltas (> 4sigma)"
   ]
  },
  {
   "cell_type": "markdown",
   "metadata": {},
   "source": [
    "#### Focus on selected target features and list lemmas whose distance has changed significantly"
   ]
  },
  {
   "cell_type": "code",
   "execution_count": 14,
   "metadata": {
    "scrolled": false
   },
   "outputs": [
    {
     "name": "stdout",
     "output_type": "stream",
     "text": [
      "'astre' and 'constel·lació' converge with development.\n",
      "'constel·lació' and 'espai' converge with development.\n",
      "'constel·lació' and 'planeta' converge with development.\n",
      "'constel·lació' and 'univers' converge with development.\n",
      "'envoltat' and 'escola' converge with development.\n",
      "'envoltat' and 'terra' converge with development.\n",
      "'escola' and 'terra' converge with development.\n"
     ]
    }
   ],
   "source": [
    "# loads target features (selected features I want to focus on)\n",
    "with open('cesca/target_features.txt') as filein:\n",
    "    target_features = filein.readlines()\n",
    "target_features = [feature.strip() for feature in target_features]\n",
    "\n",
    "# iterate over each pair of features whose distance changed significantly between groups,\n",
    "# check that both belong to the list of selected/target words, and\n",
    "# print in what direction the change occurred (i.e. in which group they were closer)\n",
    "for i, j in np.nditer(significant_deltas):\n",
    "    feat_1 = features_all[i]\n",
    "    feat_2 = features_all[j]\n",
    "    if feat_1 in target_features and feat_2 in target_features:\n",
    "        if similarity_young[i, j] < similarity_older[i, j]:\n",
    "            print(\"'{}' and '{}' converge with development.\".format(feat_1, feat_2))\n",
    "        elif similarity_young[i, j] > similarity_older[i, j]:\n",
    "            print(\"'{}' and '{}' diverge with development.\".format(feat_1, feat_2))\n",
    "        else:\n",
    "            print(\"Unexpected result for features {} and {}.\".format(feat_1, feat_2))"
   ]
  },
  {
   "cell_type": "markdown",
   "metadata": {},
   "source": [
    "### Estudio de caso: constel·lació\n",
    "Usando los siguientes parámetros:\n",
    "- young_range = (0, 11); older_range = (12, 99), \n",
    "- TfidfVectorizer(binary=False, use_idf=True, min_df=3), \n",
    "- n_components = 50,  \n",
    "\n",
    "encuentro que la distancia entre constel·lació y una serie de términos astronómicos (astre, espai, infinit, planeta, univers) difiere significativamente entre grupos. Me pregunto, ¿se debe esto a una frecuencia de uso distinta de la palabra constel·lació entre grupos?"
   ]
  },
  {
   "cell_type": "code",
   "execution_count": 15,
   "metadata": {},
   "outputs": [
    {
     "name": "stdout",
     "output_type": "stream",
     "text": [
      "Document frequency of word \"constel·lació\" in \"young\" subcorpus is 5\n",
      "Document frequency of word \"constel·lació\" in \"older\" subcorpus is 11\n"
     ]
    }
   ],
   "source": [
    "# what's the frequency of word constel·lació in both corpuses?\n",
    "\n",
    "from collections import Counter\n",
    "counter_young = Counter()  # counter holds the total number of times that words appear in the corpus\n",
    "counter_older = Counter()\n",
    "df_young = Counter()  # df (document frequency) hold the number of documents in which the words appear\n",
    "df_older = Counter()\n",
    "for i in range(len(cesca_young)):\n",
    "    this_count = Counter(cesca_young.lemmatized.iloc[i].split())\n",
    "    counter_young += this_count\n",
    "    df_young += {k: 1 for k in this_count}  # binarizes count before adding to cumulative count\n",
    "for i in range(len(cesca_older)):\n",
    "    this_count = Counter(cesca_older.lemmatized.iloc[i].split())\n",
    "    counter_older += this_count\n",
    "    df_older += {k: 1 for k in this_count}\n",
    "\n",
    "target_word = 'constel·lació'\n",
    "print('Document frequency of word \"{}\" in \"young\" subcorpus is {}'.format(target_word, df_young[target_word]))\n",
    "print('Document frequency of word \"{}\" in \"older\" subcorpus is {}'.format(target_word, df_older[target_word]))"
   ]
  }
 ],
 "metadata": {
  "kernelspec": {
   "display_name": "Python [default]",
   "language": "python",
   "name": "python3"
  },
  "language_info": {
   "codemirror_mode": {
    "name": "ipython",
    "version": 3
   },
   "file_extension": ".py",
   "mimetype": "text/x-python",
   "name": "python",
   "nbconvert_exporter": "python",
   "pygments_lexer": "ipython3",
   "version": "3.6.2"
  }
 },
 "nbformat": 4,
 "nbformat_minor": 2
}
